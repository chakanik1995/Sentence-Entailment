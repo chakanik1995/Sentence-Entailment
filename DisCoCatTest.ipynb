{
 "cells": [
  {
   "cell_type": "code",
   "execution_count": 1,
   "metadata": {},
   "outputs": [],
   "source": [
    "#This file does a small implementation of the DisCoCat Model"
   ]
  },
  {
   "cell_type": "code",
   "execution_count": 1,
   "metadata": {},
   "outputs": [],
   "source": [
    "import nltk\n",
    "import numpy as np\n",
    "import datetime\n",
    "import re"
   ]
  },
  {
   "cell_type": "code",
   "execution_count": 14,
   "metadata": {},
   "outputs": [
    {
     "name": "stdout",
     "output_type": "stream",
     "text": [
      "[['This', 'is', 'a', 'book'], ['How', 'are', 'you'], ['The', 'dog', 'is', 'chasing', 'the', 'cat'], ['Albert', 'Einstein', 'was', 'a', 'brilliant', 'physicist'], ['Pet', 'Sematary', 'was', 'a', 'horror', 'novel']]\n"
     ]
    }
   ],
   "source": [
    "#Reading the text as sentences \n",
    "\n",
    "def handleText(filename):\n",
    "    content, text, allwords = list(), list(), list()\n",
    "    file = open(filename, 'r')\n",
    "    text = file.readlines()\n",
    "    for element in text:\n",
    "        element = re.sub('\\W+',' ', element).split()\n",
    "        content.append(element)\n",
    "    return content\n",
    "\n",
    "\n",
    "myfile = handleText('/home/anik/MasterThesis/DisCoCat/SampleSentences/Sample_Sentences.txt')\n",
    "print(myfile)\n",
    "\n",
    "\n",
    "#Flattening the list\n",
    "\n",
    "def flatteningList(content):\n",
    "    flat_list = list()\n",
    "    for sublist in myfile:\n",
    "        for item in sublist:\n",
    "            flat_list.append(item)\n",
    "    return flat_list\n",
    "wordList = flatteningList(myfile)"
   ]
  },
  {
   "cell_type": "code",
   "execution_count": 9,
   "metadata": {},
   "outputs": [
    {
     "data": {
      "text/plain": [
       "['This',\n",
       " 'is',\n",
       " 'a',\n",
       " 'book',\n",
       " 'How',\n",
       " 'are',\n",
       " 'you',\n",
       " 'The',\n",
       " 'dog',\n",
       " 'chasing',\n",
       " 'the',\n",
       " 'cat',\n",
       " 'Albert',\n",
       " 'Einstein',\n",
       " 'was',\n",
       " 'brilliant',\n",
       " 'physicist',\n",
       " 'Pet',\n",
       " 'Sematary',\n",
       " 'horror',\n",
       " 'novel']"
      ]
     },
     "execution_count": 9,
     "metadata": {},
     "output_type": "execute_result"
    }
   ],
   "source": [
    "def BasisList(content):\n",
    "    basisWords = list()\n",
    "    for word in content:\n",
    "        if word not in basisWords:\n",
    "            basisWords.append(word)\n",
    "        else:\n",
    "            continue\n",
    "    return basisWords\n",
    "\n",
    "BasisList(wordList)"
   ]
  },
  {
   "cell_type": "markdown",
   "metadata": {},
   "source": [
    "Vector representation of each sentence as function of basis\n",
    "====================================================\n",
    "Indicator function is used for each word of the sentence. Each sentence is an n-array of 0s and 1s where n is the length of basis list\n"
   ]
  },
  {
   "cell_type": "code",
   "execution_count": null,
   "metadata": {},
   "outputs": [],
   "source": []
  },
  {
   "cell_type": "code",
   "execution_count": null,
   "metadata": {},
   "outputs": [],
   "source": [
    "from nltk.tokenize import sent_tokenize\n",
    "file = open(filename, 'r')\n",
    "text = file.readlines()"
   ]
  },
  {
   "cell_type": "code",
   "execution_count": null,
   "metadata": {},
   "outputs": [],
   "source": []
  },
  {
   "cell_type": "code",
   "execution_count": null,
   "metadata": {},
   "outputs": [],
   "source": []
  },
  {
   "cell_type": "code",
   "execution_count": null,
   "metadata": {},
   "outputs": [],
   "source": []
  },
  {
   "cell_type": "code",
   "execution_count": null,
   "metadata": {},
   "outputs": [],
   "source": []
  },
  {
   "cell_type": "code",
   "execution_count": null,
   "metadata": {},
   "outputs": [],
   "source": []
  },
  {
   "cell_type": "code",
   "execution_count": null,
   "metadata": {},
   "outputs": [],
   "source": []
  },
  {
   "cell_type": "code",
   "execution_count": null,
   "metadata": {},
   "outputs": [],
   "source": []
  },
  {
   "cell_type": "code",
   "execution_count": null,
   "metadata": {},
   "outputs": [],
   "source": []
  },
  {
   "cell_type": "code",
   "execution_count": null,
   "metadata": {},
   "outputs": [],
   "source": []
  }
 ],
 "metadata": {
  "kernelspec": {
   "display_name": "Python 3",
   "language": "python",
   "name": "python3"
  },
  "language_info": {
   "codemirror_mode": {
    "name": "ipython",
    "version": 3
   },
   "file_extension": ".py",
   "mimetype": "text/x-python",
   "name": "python",
   "nbconvert_exporter": "python",
   "pygments_lexer": "ipython3",
   "version": "3.7.2"
  }
 },
 "nbformat": 4,
 "nbformat_minor": 2
}
